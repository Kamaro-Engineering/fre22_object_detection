{
 "cells": [
  {
   "cell_type": "code",
   "execution_count": 2,
   "metadata": {},
   "outputs": [],
   "source": [
    "import os\n",
    "import subprocess\n",
    "import numpy as np\n",
    "import cv2\n",
    "import shutil"
   ]
  },
  {
   "cell_type": "code",
   "execution_count": 26,
   "metadata": {},
   "outputs": [],
   "source": [
    "dirlist = subprocess.check_output([\"find\", \"./Löwenzahn/Plastik Modell/ohne/\"])"
   ]
  },
  {
   "cell_type": "code",
   "execution_count": 27,
   "metadata": {},
   "outputs": [],
   "source": [
    "images = [e for e in dirlist.decode('utf-8').splitlines() if e[-3:].lower() in [\"jpg\",\"png\"]]"
   ]
  },
  {
   "cell_type": "code",
   "execution_count": 28,
   "metadata": {},
   "outputs": [],
   "source": [
    "names = [f.lower().replace(\":\",\"_\").replace(\" \",\"_\").replace(\"/markiert\",\"\").split(\"/\")[-1] for f in images]"
   ]
  },
  {
   "cell_type": "code",
   "execution_count": 29,
   "metadata": {},
   "outputs": [],
   "source": [
    "filenames_labels = dict()\n",
    "filenames_images = dict()\n",
    "file = open(\"./X_public_jpgs.txt\",'r')\n",
    "approved_imgs = file.read().replace(\".jpg\\n\", \", \").split(\", \")"
   ]
  },
  {
   "cell_type": "code",
   "execution_count": 30,
   "id": "067063a4",
   "metadata": {},
   "outputs": [],
   "source": [
    "\n",
    "for name, image in zip(names, images):\n",
    "    if name.replace(\".png\", \"\").replace(\".jpg\", \"\") in approved_imgs:\n",
    "        if name.endswith(\"jpg\"):\n",
    "            filenames_images[name[:-4]] = image\n",
    "        elif name.endswith(\"png\"):\n",
    "            filenames_labels[name[:-4]] = image\n",
    "        else:\n",
    "            raise ValueError(\"Invalid filename \"+name+\" for image \"+image)"
   ]
  },
  {
   "cell_type": "code",
   "execution_count": 31,
   "metadata": {},
   "outputs": [],
   "source": [
    "keys = list(filenames_labels.keys())"
   ]
  },
  {
   "cell_type": "code",
   "execution_count": 32,
   "metadata": {},
   "outputs": [],
   "source": [
    "MARKER_DANDELION = np.array([255,255,0])\n",
    "MARKER_ALCOHOLIC = np.array([0,255,255])\n",
    "\n",
    "def load_label(name):\n",
    "    raw = cv2.imread(filenames_labels[name])[:,:,::-1]\n",
    "    mask_dandelion = (np.abs(raw - MARKER_DANDELION).mean(axis=-1) < 20 ).astype(np.uint8)\n",
    "    mask_alcoholic = (np.abs(raw - MARKER_ALCOHOLIC).mean(axis=-1) < 20 ).astype(np.uint8)\n",
    "    mask_none = np.ones_like(mask_dandelion) - mask_dandelion - mask_alcoholic\n",
    "    return np.stack([mask_dandelion,mask_alcoholic, mask_none], axis=-1) * 255"
   ]
  },
  {
   "cell_type": "code",
   "execution_count": 33,
   "metadata": {},
   "outputs": [],
   "source": [
    "for key in keys:\n",
    "    out_image = key + \".jpg\"\n",
    "    out_label = key + \".png\"\n",
    "    \n",
    "    if not os.path.isfile(out_image):\n",
    "        print(\"copying image\", out_image)\n",
    "        shutil.copyfile(filenames_images[key], out_image)\n",
    "    else:\n",
    "        print(\"skipping image \", out_image)\n",
    "        \n",
    "    if not os.path.isfile(out_label):\n",
    "        print(\"copying label\", out_label)\n",
    "        label = load_label(key)\n",
    "        cv2.imwrite(out_label, label)\n",
    "    else:\n",
    "        print(\"skipping label\", out_label)"
   ]
  },
  {
   "cell_type": "code",
   "execution_count": 4,
   "metadata": {},
   "outputs": [],
   "source": [
    "def convert_to_yolo_coco(dir: str, dest: str):\n",
    "    os.mkdir(dest)\n",
    "    for img in os.listdir(os.path.join(dir, \"images\")):\n",
    "        new_img_dir = os.path.join(dest, img.replace(\".jpg\", \"\"))\n",
    "        os.mkdir(new_img_dir)\n",
    "        os.mkdir(os.path.join(new_img_dir, \"images\"))\n",
    "        os.mkdir(os.path.join(new_img_dir, \"masks\"))\n",
    "        shutil.copy(os.path.join(dir, \"images\", img), os.path.join(new_img_dir, \"images\"))\n",
    "        \n",
    "        label = cv2.imread(os.path.join(dir, \"labels\", img.replace(\".jpg\", \".png\")))[:,:,::-1]\n",
    "        # plants\n",
    "        cv2.imwrite(os.path.join(new_img_dir, \"masks\", img.replace(\".jpg\", \"_class_1.png\")), label[:,:,2])\n",
    "        # cans\n",
    "        cv2.imwrite(os.path.join(new_img_dir, \"masks\", img.replace(\".jpg\", \"_class_2.png\")), label[:,:,1])\n",
    "\n",
    "\n",
    "        #shutil.copy(os.path.join(dir, \"labels\", img.replace(\".jpg\", \".png\")), os.path.join(new_img_dir, \"masks\"))\n",
    "convert_to_yolo_coco(\"./dataset/\", \"./coco/\")"
   ]
  },
  {
   "cell_type": "code",
   "execution_count": 5,
   "id": "1b9d7949",
   "metadata": {},
   "outputs": [],
   "source": [
    "shutil.rmtree(\"./coco/\")\n"
   ]
  },
  {
   "cell_type": "code",
   "execution_count": null,
   "id": "a564e6ab",
   "metadata": {},
   "outputs": [],
   "source": []
  }
 ],
 "metadata": {
  "kernelspec": {
   "display_name": "Python 3.10.8 64-bit",
   "language": "python",
   "name": "python3"
  },
  "language_info": {
   "codemirror_mode": {
    "name": "ipython",
    "version": 3
   },
   "file_extension": ".py",
   "mimetype": "text/x-python",
   "name": "python",
   "nbconvert_exporter": "python",
   "pygments_lexer": "ipython3",
   "version": "3.10.8"
  },
  "vscode": {
   "interpreter": {
    "hash": "e7370f93d1d0cde622a1f8e1c04877d8463912d04d973331ad4851f04de6915a"
   }
  }
 },
 "nbformat": 4,
 "nbformat_minor": 5
}
