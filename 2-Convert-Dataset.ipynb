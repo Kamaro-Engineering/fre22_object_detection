{
 "cells": [
  {
   "cell_type": "code",
   "execution_count": 1,
   "metadata": {},
   "outputs": [],
   "source": [
    "import cv2\n",
    "import numpy as np\n",
    "from matplotlib import pyplot as plt\n",
    "import os\n",
    "from skimage.measure import block_reduce"
   ]
  },
  {
   "cell_type": "code",
   "execution_count": 2,
   "metadata": {},
   "outputs": [],
   "source": [
    "images = [f for f in os.listdir()]\n",
    "images.sort()\n",
    "jpgs = [f for f in images if f.endswith(\".jpg\")]\n",
    "pngs = [f for f in images if f.endswith(\".png\")]"
   ]
  },
  {
   "cell_type": "code",
   "execution_count": 3,
   "metadata": {},
   "outputs": [],
   "source": [
    "IMAGE_RESOLUTION = (640, 480)\n",
    "LABEL_RESOLUTION = (20, 15)\n",
    "BLOCK_SIZE=IMAGE_RESOLUTION[0] // LABEL_RESOLUTION[0]"
   ]
  },
  {
   "cell_type": "code",
   "execution_count": 4,
   "metadata": {},
   "outputs": [],
   "source": [
    "X = np.zeros((len(jpgs), IMAGE_RESOLUTION[1], IMAGE_RESOLUTION[0], 3), dtype=np.float32)\n",
    "y = np.zeros((len(jpgs), LABEL_RESOLUTION[1], LABEL_RESOLUTION[0], 3), dtype=np.float32)"
   ]
  },
  {
   "cell_type": "code",
   "execution_count": 5,
   "metadata": {},
   "outputs": [],
   "source": [
    "for idx, (jpg, png) in enumerate(zip(jpgs, pngs)):\n",
    "    image = cv2.imread(jpg)[:,:,::-1]\n",
    "    label = cv2.imread(png)[:,:,::-1]\n",
    "    # portrait/landscape maybe different in image and label\n",
    "    if image.shape[0] != label.shape[0]:\n",
    "        image = image.swapaxes(0,1)[:,::-1,:]\n",
    "    # flip portrait images to landscape\n",
    "    if image.shape[0] > image.shape[1]:\n",
    "        image = image.swapaxes(0,1)[:,::-1,:]\n",
    "        label = label.swapaxes(0,1)[:,::-1,:]\n",
    "    image = cv2.resize(image, IMAGE_RESOLUTION) / 255.0\n",
    "    label = cv2.resize(label, IMAGE_RESOLUTION) / 255.0\n",
    "    label = block_reduce(label, (BLOCK_SIZE,BLOCK_SIZE,1), func=np.mean)\n",
    "    X[idx,:,:,:] = image\n",
    "    y[idx,:,:,:] = label"
   ]
  },
  {
   "cell_type": "code",
   "execution_count": 6,
   "metadata": {},
   "outputs": [],
   "source": [
    "# binarize favoring non-background classes\n",
    "y[:,:,:,0] = (y[:,:,:,0]==1).astype(np.float32)\n",
    "y[:,:,:,1] = np.ceil(y[:,:,:,1])\n",
    "y[:,:,:,2] = np.ceil(y[:,:,:,2])"
   ]
  },
  {
   "cell_type": "code",
   "execution_count": null,
   "metadata": {},
   "outputs": [],
   "source": [
    "np.savez(\"X.npz\", X)\n",
    "np.savez(\"y.npz\", y)"
   ]
  },
  {
   "cell_type": "code",
   "execution_count": null,
   "metadata": {},
   "outputs": [],
   "source": []
  }
 ],
 "metadata": {
  "kernelspec": {
   "display_name": "Python 3",
   "language": "python",
   "name": "python3"
  },
  "language_info": {
   "codemirror_mode": {
    "name": "ipython",
    "version": 3
   },
   "file_extension": ".py",
   "mimetype": "text/x-python",
   "name": "python",
   "nbconvert_exporter": "python",
   "pygments_lexer": "ipython3",
   "version": "3.8.10"
  }
 },
 "nbformat": 4,
 "nbformat_minor": 5
}
