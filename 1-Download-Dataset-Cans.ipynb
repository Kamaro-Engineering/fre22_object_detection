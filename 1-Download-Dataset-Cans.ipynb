{
 "cells": [
  {
   "cell_type": "code",
   "execution_count": 1,
   "metadata": {},
   "outputs": [],
   "source": [
    "import os\n",
    "import subprocess\n",
    "import numpy as np\n",
    "import cv2\n",
    "import shutil"
   ]
  },
  {
   "cell_type": "code",
   "execution_count": 16,
   "metadata": {},
   "outputs": [],
   "source": [
    "dirlist = subprocess.check_output([\"find\", \"/run/user/1000/gvfs/dav:host=nextcloud.kamaro-engineering.de,ssl=true,user=jbarthel,prefix=%2Fremote.php%2Fdav/files/jbarthel/Datenverarbeitung/Datensätze/Löwenzahn/Plastik Modell/Bierdosen 🍺\"])"
   ]
  },
  {
   "cell_type": "code",
   "execution_count": 18,
   "metadata": {},
   "outputs": [],
   "source": [
    "images = [e for e in dirlist.decode('utf-8').splitlines() if e[-3:].lower() in [\"jpg\",\"png\"]]"
   ]
  },
  {
   "cell_type": "code",
   "execution_count": 19,
   "metadata": {},
   "outputs": [],
   "source": [
    "names = [f.lower().replace(\":\",\"_\").replace(\" \",\"_\").replace(\"/markiert\",\"\").split(\"/\")[-1] for f in images]"
   ]
  },
  {
   "cell_type": "code",
   "execution_count": 21,
   "metadata": {},
   "outputs": [],
   "source": [
    "filenames_labels = dict()\n",
    "filenames_images = dict()\n",
    "\n",
    "for name, image in zip(names, images):\n",
    "    if name.endswith(\"jpg\"):\n",
    "        filenames_images[name[:-4]] = image\n",
    "    elif name.endswith(\"png\"):\n",
    "        filenames_labels[name[:-4]] = image\n",
    "    else:\n",
    "        raise ValueError(\"Invalid filename \"+name+\" for image \"+image)"
   ]
  },
  {
   "cell_type": "code",
   "execution_count": 22,
   "metadata": {},
   "outputs": [],
   "source": [
    "keys = list(filenames_labels.keys())"
   ]
  },
  {
   "cell_type": "code",
   "execution_count": 24,
   "metadata": {},
   "outputs": [],
   "source": [
    "MARKER_DANDELION = np.array([255,255,0])\n",
    "MARKER_ALCOHOLIC = np.array([0,255,255])\n",
    "\n",
    "def load_label(name):\n",
    "    raw = cv2.imread(filenames_labels[name])[:,:,::-1]\n",
    "    mask_dandelion = (np.abs(raw - MARKER_DANDELION).mean(axis=-1) < 20 ).astype(np.uint8)\n",
    "    mask_alcoholic = (np.abs(raw - MARKER_ALCOHOLIC).mean(axis=-1) < 5 ).astype(np.uint8)\n",
    "    mask_none = np.ones_like(mask_dandelion) - mask_dandelion - mask_alcoholic\n",
    "    return np.stack([mask_dandelion,mask_alcoholic, mask_none], axis=-1) * 255"
   ]
  },
  {
   "cell_type": "code",
   "execution_count": 25,
   "metadata": {},
   "outputs": [
    {
     "name": "stdout",
     "output_type": "stream",
     "text": [
      "copying image img_2022-05-31t19_06_54.322520.jpg\n",
      "copying label img_2022-05-31t19_06_54.322520.png\n",
      "copying image img_2022-05-31t19_06_56.248453.jpg\n",
      "copying label img_2022-05-31t19_06_56.248453.png\n",
      "copying image img_2022-05-31t19_07_01.883374.jpg\n",
      "copying label img_2022-05-31t19_07_01.883374.png\n",
      "copying image img_2022-05-31t19_07_07.682860.jpg\n",
      "copying label img_2022-05-31t19_07_07.682860.png\n",
      "copying image img_2022-05-31t19_07_16.381704.jpg\n",
      "copying label img_2022-05-31t19_07_16.381704.png\n",
      "copying image img_2022-05-31t19_07_22.582158.jpg\n",
      "copying label img_2022-05-31t19_07_22.582158.png\n",
      "copying image img_2022-05-31t19_07_24.048444.jpg\n",
      "copying label img_2022-05-31t19_07_24.048444.png\n",
      "copying image img_2022-05-31t19_07_30.582820.jpg\n",
      "copying label img_2022-05-31t19_07_30.582820.png\n",
      "copying image img_2022-05-31t19_07_32.415211.jpg\n",
      "copying label img_2022-05-31t19_07_32.415211.png\n",
      "copying image img_2022-05-31t19_07_36.652982.jpg\n",
      "copying label img_2022-05-31t19_07_36.652982.png\n"
     ]
    }
   ],
   "source": [
    "for key in keys:\n",
    "    out_image = key + \".jpg\"\n",
    "    out_label = key + \".png\"\n",
    "    \n",
    "    if not os.path.isfile(out_image):\n",
    "        print(\"copying image\", out_image)\n",
    "        shutil.copyfile(filenames_images[key], out_image)\n",
    "    else:\n",
    "        print(\"skipping image \", out_image)\n",
    "        \n",
    "    if not os.path.isfile(out_label):\n",
    "        print(\"copying label\", out_label)\n",
    "        label = load_label(key)\n",
    "        cv2.imwrite(out_label, label)\n",
    "    else:\n",
    "        print(\"skipping label\", out_label)"
   ]
  },
  {
   "cell_type": "code",
   "execution_count": null,
   "metadata": {},
   "outputs": [],
   "source": []
  }
 ],
 "metadata": {
  "kernelspec": {
   "display_name": "Python 3",
   "language": "python",
   "name": "python3"
  },
  "language_info": {
   "codemirror_mode": {
    "name": "ipython",
    "version": 3
   },
   "file_extension": ".py",
   "mimetype": "text/x-python",
   "name": "python",
   "nbconvert_exporter": "python",
   "pygments_lexer": "ipython3",
   "version": "3.8.10"
  }
 },
 "nbformat": 4,
 "nbformat_minor": 5
}
